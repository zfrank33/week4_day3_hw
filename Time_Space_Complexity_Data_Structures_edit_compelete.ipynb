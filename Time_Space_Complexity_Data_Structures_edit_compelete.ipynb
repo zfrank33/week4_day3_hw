{
 "cells": [
  {
   "cell_type": "markdown",
   "metadata": {},
   "source": [
    "# Time/Space Complexity - Intro to Data Structures (User Defined)\n",
    "\n",
    "### Topics to discuss today:\n",
    "\n",
    "<ul>\n",
    "    <li>Time and Space Complexity - What is it/How do we measure it</li>\n",
    "    <li>Asymptotic Analysis</li>\n",
    "    <li><strong>Data Structures</strong></li>\n",
    "    <li>Some of the popular sorting algorithms</li>\n",
    "</ul>\n",
    "\n",
    "### Data Structures to discuss:\n",
    "- Arrays\n",
    "- Stacks\n",
    "- Queues\n",
    "- Linked Lists\n",
    "    - Singly Linked Lists\n",
    "    - Traversing A Linked List\n",
    "    - Finding a node in a linked list\n",
    "    - Adding to a linked list\n",
    "- Binary Search Trees\n",
    "    - Construction\n",
    "    - Traversal\n"
   ]
  },
  {
   "cell_type": "markdown",
   "metadata": {},
   "source": [
    "## Time and Space Complexity\n",
    "\n",
    "#### What is it?\n",
    "\n",
    "Time and space complexity is the measure of how much time a given action(function) will take to solve a problem. In the same fashion, we determine how much a given data structure will need in terms of memory allocation. A problem can have multiple solutions and finding the optimal solution for the problem needs to be analyzed in time and space.\n",
    "\n",
    "#### How do we measure Time and Space Complexity?\n",
    "\n",
    "In order to measure time and space complexity we use Asymptotic analysis. The reason for this is because we need a way to measure different algorithms (functions) based on the size of their inputs in a mathmatical way. For example, we could have a function that is computed as f(n) and another that is g(n^2). All things around the function staying constant, the only thing that changes is the size of the input. Below is the chart that shows the different Asymptotic analysis formats. "
   ]
  },
  {
   "cell_type": "markdown",
   "metadata": {},
   "source": [
    "<table style=\"text-align:center;\" class=\"table table-bordered\">\n",
    "<tbody><tr>\n",
    "<td>constant</td>\n",
    "<td>−</td>\n",
    "<td>Ο(1)</td>\n",
    "</tr>\n",
    "<tr>\n",
    "<td>logarithmic</td>\n",
    "<td>−</td>\n",
    "<td>Ο(log n)</td>\n",
    "</tr>\n",
    "<tr>\n",
    "<td>linear</td>\n",
    "<td>−</td>\n",
    "<td>Ο(n)</td>\n",
    "</tr>\n",
    "<tr>\n",
    "<td>Linear Logarithmic</td>\n",
    "<td>−</td>\n",
    "<td>Ο(n log n)</td>\n",
    "</tr>\n",
    "<tr>\n",
    "<td>quadratic</td>\n",
    "<td>−</td>\n",
    "<td>Ο(n<sup>2</sup>)</td>\n",
    "</tr>\n",
    "<tr>\n",
    "<td>cubic</td>\n",
    "<td>−</td>\n",
    "<td>Ο(n<sup>3</sup>)</td>\n",
    "</tr>\n",
    "<tr>\n",
    "<td>polynomial</td>\n",
    "<td>−</td>\n",
    "<td>n<sup>Ο(1)</sup></td>\n",
    "</tr>\n",
    "<tr>\n",
    "<td>exponential</td>\n",
    "<td>−</td>\n",
    "<td>2<sup>Ο(n)</sup></td>\n",
    "</tr>\n",
    "</tbody></table>"
   ]
  },
  {
   "cell_type": "markdown",
   "metadata": {},
   "source": [
    "## Arrays"
   ]
  },
  {
   "cell_type": "markdown",
   "metadata": {},
   "source": [
    "In python we benefit from the dynamic array which means the block of memory will expand as needed for the given input to the array. In traditional arrays (depending on the type of operating system) we will usually store our inputs in 4 or 8 consecutive blocks of memory. Below is a diagram of how that looks under the hood:\n",
    "\n",
    "<img src=\"http://www.mathcs.emory.edu/~cheung/Courses/170/Syllabus/09/FIGS/array02x.gif\" style=\"height:250px; width:350px;\">"
   ]
  },
  {
   "cell_type": "markdown",
   "metadata": {},
   "source": [
    "## Which in python looks like this:"
   ]
  },
  {
   "cell_type": "code",
   "execution_count": 2,
   "metadata": {},
   "outputs": [
    {
     "name": "stdout",
     "output_type": "stream",
     "text": [
      "[23, 4, 6, 15, 5, 7, 23]\n"
     ]
    }
   ],
   "source": [
    "array=[23,4,6,15,5,7,]\n",
    "print(array)"
   ]
  },
  {
   "cell_type": "markdown",
   "metadata": {},
   "source": [
    "### Let's take a look at some of the time and space analysis of arrays"
   ]
  },
  {
   "cell_type": "code",
   "execution_count": null,
   "metadata": {},
   "outputs": [],
   "source": [
    "# double loops is n^2 time\n",
    "# list has 100 elements and we loop through it twice\n",
    "# so 100^2 = 10000\n",
    "\n",
    "\n",
    "my_list=list(range(100))\n",
    "num_of_prints=0\n",
    "for i in my_list:\n",
    "    for j in my_list:\n",
    "        num_of_prints+=1\n",
    "        print(f\"i: {i} j: {j} total print statements: {num_of_prints}\")"
   ]
  },
  {
   "cell_type": "code",
   "execution_count": 4,
   "metadata": {},
   "outputs": [
    {
     "name": "stdout",
     "output_type": "stream",
     "text": [
      "4\n",
      "55\n",
      "15\n",
      "5\n",
      "7\n"
     ]
    },
    {
     "data": {
      "text/plain": [
       "4"
      ]
     },
     "execution_count": 4,
     "metadata": {},
     "output_type": "execute_result"
    }
   ],
   "source": [
    "# Indexing an Array(list)\n",
    "indexing = array[1] # Constant Time and Space - O(1)\n",
    "\n",
    "# Searching through an array(list)\n",
    "# Linear Time - O(n) Constant Space - O(1)\n",
    "for i in array:\n",
    "    print(i)\n",
    "    \n",
    "# Copying an array\n",
    "# Linear Time - O(n) AND Linear Space - O(n)\n",
    "copying = array[:]\n",
    "\n",
    "# Setting an index in an array(list)\n",
    "# Constant Time AND Constant Space - O(1)\n",
    "array[2] = 3\n",
    "\n",
    "# pop removes a returns the element\n",
    "#pop is constant Time\n",
    "array.pop()\n",
    "\n",
    "#pop at position O(n) time\n",
    "array.pop(0)"
   ]
  },
  {
   "cell_type": "markdown",
   "metadata": {},
   "source": [
    "## Stacks and Queues (Review)\n",
    "\n",
    "** Stacks ** as the name suggests is a data structure that allows for data to follow the Last In First Out priciple(LIFO). Think of a stack of pancakes for example. To get the first pancake you would  start with the top and go down.\n",
    "\n",
    "##### Searching through a stack will be Linear Time O(n) - Constant Space O(1)\n",
    "##### Selecting the last item will be done in Constant Time O(1) - Constant Space O(1)\n",
    "##### Adding to the stack should take Constant Time O(1) - Constant Space O(1)\n",
    "\n",
    "** Queues ** are similar but in this case follow the First In First Out principle(FIFO). Think of this as a line in a black friday sale. The first person camped out for the big screen tv is the first to get it.\n",
    "\n",
    "##### Searching through a queue will be Linear Time O(n) - Constant Space O(1)\n",
    "##### Selecting the first item will be done in Constant Time O(1) - Constant Space O(1)\n",
    "##### Adding to the queue should take Constant Time O(1) - Constant Space O(1)"
   ]
  },
  {
   "cell_type": "code",
   "execution_count": 6,
   "metadata": {},
   "outputs": [
    {
     "name": "stdout",
     "output_type": "stream",
     "text": [
      "c\n"
     ]
    }
   ],
   "source": [
    "stack = []\n",
    "stack.append(\"a\")\n",
    "stack.append(\"b\")\n",
    "stack.append(\"c\")\n",
    "last_item = stack.pop()\n",
    "print(last_item)\n",
    "#LIFO"
   ]
  },
  {
   "cell_type": "markdown",
   "metadata": {},
   "source": [
    " "
   ]
  },
  {
   "cell_type": "code",
   "execution_count": 7,
   "metadata": {},
   "outputs": [
    {
     "name": "stdout",
     "output_type": "stream",
     "text": [
      "a\n"
     ]
    }
   ],
   "source": [
    "queue=[]\n",
    "queue.append(\"a\")\n",
    "queue.append(\"b\")\n",
    "queue.append(\"c\")\n",
    "first_item = queue.pop(0)\n",
    "print(first_item)\n",
    "#FIFO"
   ]
  },
  {
   "cell_type": "markdown",
   "metadata": {},
   "source": [
    "you can use popleft but it does not work on list (the above are collections)\n",
    " \n",
    " \\there is also an append left"
   ]
  },
  {
   "cell_type": "code",
   "execution_count": 4,
   "metadata": {
    "scrolled": true
   },
   "outputs": [
    {
     "name": "stdout",
     "output_type": "stream",
     "text": [
      "c\n"
     ]
    }
   ],
   "source": [
    "from collections import deque\n",
    "stack = deque()\n",
    "stack.append(\"a\")\n",
    "stack.append(\"b\")\n",
    "stack.append(\"c\")\n",
    "print(stack.pop())"
   ]
  },
  {
   "cell_type": "code",
   "execution_count": 10,
   "metadata": {},
   "outputs": [
    {
     "name": "stdout",
     "output_type": "stream",
     "text": [
      "deque(['z', 'a', 'b', 'c'])\n",
      "z\n"
     ]
    }
   ],
   "source": [
    "from collections import deque\n",
    "queue=deque()\n",
    "queue.append('a')\n",
    "queue.append('b')\n",
    "queue.append('c')\n",
    "queue.appendleft('z')\n",
    "print(queue)\n",
    "print(queue.popleft())"
   ]
  },
  {
   "cell_type": "code",
   "execution_count": 7,
   "metadata": {},
   "outputs": [
    {
     "name": "stdout",
     "output_type": "stream",
     "text": [
      "a\n"
     ]
    }
   ],
   "source": [
    "from queue import Queue\n",
    "q=Queue(maxsize=3)\n",
    "q.put('a')\n",
    "q.put('b')\n",
    "q.put('c')\n",
    "print(q.get())\n",
    "\n",
    "#FIFO\n"
   ]
  },
  {
   "cell_type": "code",
   "execution_count": 9,
   "metadata": {},
   "outputs": [
    {
     "name": "stdout",
     "output_type": "stream",
     "text": [
      "c\n"
     ]
    }
   ],
   "source": [
    "from queue import LifoQueue\n",
    "s=LifoQueue(maxsize=3)\n",
    "s.put('a')\n",
    "s.put('b')\n",
    "s.put('c')\n",
    "\n",
    "print(s.get())\n",
    "\n",
    "#LIFO"
   ]
  },
  {
   "cell_type": "markdown",
   "metadata": {},
   "source": [
    "Two Pointers\n",
    "x,y =1,2\n",
    "print (x)\n",
    "print (y)"
   ]
  },
  {
   "cell_type": "markdown",
   "metadata": {},
   "source": [
    "l=[1,2,3,12,9,4]\n",
    "def two-pointer(alist):\n",
    "left = 0 \n",
    "rigt = len(alist) more follow"
   ]
  },
  {
   "cell_type": "markdown",
   "metadata": {},
   "source": [
    "## Binary Search"
   ]
  },
  {
   "cell_type": "markdown",
   "metadata": {
    "id": "1VfzWicM7Hub"
   },
   "source": [
    "### In order to best explain Logarithmic time, it is best to use a popular algorithm called `Binary Search`.\n",
    "\n",
    "### Here's an example:\n",
    "<img src=\"https://www.geeksforgeeks.org/wp-content/uploads/Binary-Search.png\">\n",
    "\n",
    "### This algorithm essentially halves the input that it is given each time a cycle is made. Here's a close look at the code:"
   ]
  },
  {
   "cell_type": "code",
   "execution_count": 6,
   "metadata": {},
   "outputs": [
    {
     "name": "stdout",
     "output_type": "stream",
     "text": [
      "7.534027099609375e-05\n"
     ]
    }
   ],
   "source": [
    "# Binary Search \n",
    "# Logarithmic\n",
    "# The runtime is O(log(n)) | This is known as a divide and conquer\n",
    "\n",
    "def binary_search_helper(array, target, left, right):\n",
    "    while left <= right:\n",
    "        middle = (left+right)//2\n",
    "        potential_math = array[middle]\n",
    "        if target == potential_math:\n",
    "            return f\"the index for the target {target} is {middle}\"\n",
    "        elif target < potential_math:\n",
    "            right = middle\n",
    "        else:\n",
    "            left = middle\n",
    "    return -1\n",
    "\n",
    "def binary_search(array, target):\n",
    "    return binary_search_helper(array,target,0, len(array))\n",
    "                                \n",
    "\n",
    "a_list = [28, 256, 11, 90, 23, 2, 4, 4324, 43, 34, 543, 7768, 90, 106]\n",
    "a_list.sort()\n",
    "a_list\n",
    "\n",
    "binary_search(a_list, 28)                                \n",
    "                                \n",
    "start_time = time.time()\n",
    "binary_search(list(range(200)),199)\n",
    "end_time = time.time() - start_time\n",
    "print(end_time)\n"
   ]
  },
  {
   "cell_type": "markdown",
   "metadata": {
    "id": "F7aT5FNm7Hud"
   },
   "source": [
    "### Here's another graph that shows the difference between Linear O(n) and Binary Search which is O(log(n)):\n",
    "\n",
    "<img src=\"data:image/png;base64,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\">"
   ]
  },
  {
   "cell_type": "code",
   "execution_count": 2,
   "metadata": {},
   "outputs": [
    {
     "name": "stdout",
     "output_type": "stream",
     "text": [
      "0\n",
      "1\n",
      "2\n",
      "3\n",
      "4\n",
      "5\n",
      "6\n",
      "7\n",
      "8\n",
      "9\n",
      "10\n",
      "11\n",
      "12\n",
      "13\n",
      "14\n",
      "15\n",
      "16\n",
      "17\n",
      "18\n",
      "19\n",
      "20\n",
      "21\n",
      "22\n",
      "23\n",
      "24\n",
      "25\n",
      "26\n",
      "27\n",
      "28\n",
      "29\n",
      "30\n",
      "31\n",
      "32\n",
      "33\n",
      "34\n",
      "35\n",
      "36\n",
      "37\n",
      "38\n",
      "39\n",
      "40\n",
      "41\n",
      "42\n",
      "43\n",
      "44\n",
      "45\n",
      "46\n",
      "47\n",
      "48\n",
      "49\n",
      "50\n",
      "51\n",
      "52\n",
      "53\n",
      "54\n",
      "55\n",
      "56\n",
      "57\n",
      "58\n",
      "59\n",
      "60\n",
      "61\n",
      "62\n",
      "63\n",
      "64\n",
      "65\n",
      "66\n",
      "67\n",
      "68\n",
      "69\n",
      "70\n",
      "71\n",
      "72\n",
      "73\n",
      "74\n",
      "75\n",
      "76\n",
      "77\n",
      "78\n",
      "79\n",
      "80\n",
      "81\n",
      "82\n",
      "83\n",
      "84\n",
      "85\n",
      "86\n",
      "87\n",
      "88\n",
      "89\n",
      "90\n",
      "91\n",
      "92\n",
      "93\n",
      "94\n",
      "95\n",
      "96\n",
      "97\n",
      "98\n",
      "99\n",
      "100\n",
      "101\n",
      "102\n",
      "103\n",
      "104\n",
      "105\n",
      "106\n",
      "107\n",
      "108\n",
      "109\n",
      "110\n",
      "111\n",
      "112\n",
      "113\n",
      "114\n",
      "115\n",
      "116\n",
      "117\n",
      "118\n",
      "119\n",
      "120\n",
      "121\n",
      "122\n",
      "123\n",
      "124\n",
      "125\n",
      "126\n",
      "127\n",
      "128\n",
      "129\n",
      "130\n",
      "131\n",
      "132\n",
      "133\n",
      "134\n",
      "135\n",
      "136\n",
      "137\n",
      "138\n",
      "139\n",
      "140\n",
      "141\n",
      "142\n",
      "143\n",
      "144\n",
      "145\n",
      "146\n",
      "147\n",
      "148\n",
      "149\n",
      "150\n",
      "151\n",
      "152\n",
      "153\n",
      "154\n",
      "155\n",
      "156\n",
      "157\n",
      "158\n",
      "159\n",
      "160\n",
      "161\n",
      "162\n",
      "163\n",
      "164\n",
      "165\n",
      "166\n",
      "167\n",
      "168\n",
      "169\n",
      "170\n",
      "171\n",
      "172\n",
      "173\n",
      "174\n",
      "175\n",
      "176\n",
      "177\n",
      "178\n",
      "179\n",
      "180\n",
      "181\n",
      "182\n",
      "183\n",
      "184\n",
      "185\n",
      "186\n",
      "187\n",
      "188\n",
      "189\n",
      "190\n",
      "191\n",
      "192\n",
      "193\n",
      "194\n",
      "195\n",
      "196\n",
      "197\n",
      "198\n",
      "199\n",
      "0.0037539005279541016\n"
     ]
    }
   ],
   "source": [
    "import time\n",
    "# Example of Linear Time: O(n)\n",
    "# This runtime will increase, as the number of items increases\n",
    "def linear_algo(items):\n",
    "    for item in items:\n",
    "        print(item)\n",
    "start_time = time.time()\n",
    "linear_algo(list(range(200)))\n",
    "end_time = time.time() - start_time\n",
    "print(end_time)"
   ]
  },
  {
   "cell_type": "code",
   "execution_count": null,
   "metadata": {},
   "outputs": [],
   "source": [
    "# Example of Quadratic Time : O(n^2)\n",
    "# A function is known as quadratic if it requires us to complete two nested loops\n",
    "# And iterate over items in the loop multiple times.\n",
    "def quadratic_algo(items):\n",
    "    for i in items:\n",
    "        for j in items:\n",
    "            print(i, \" \", j)\n",
    "\n",
    "a_list = list(range(11))\n",
    "b_list = list(range(21))\n",
    "\n",
    "start_time = time.time()\n",
    "quadratic_algo(b_list)\n",
    "end_time = time.time() - start_time\n",
    "print(end_time)"
   ]
  },
  {
   "cell_type": "markdown",
   "metadata": {},
   "source": [
    "## Linked List (Data Structure)\n",
    "\n",
    "A linked list is created by using the node class. We create a Node object and create another class to use this node object. We pass the appropriate values thorugh the node object to point the to the next data elements.\n",
    "\n",
    "There are some advantages and disadvantages with this data structure. **Advantages** Linked Lists can save memory because they can be flexibile with memory management which saves memory. **Disadvantages** Finding or adding to the list requires traversing the entire list."
   ]
  },
  {
   "cell_type": "code",
   "execution_count": null,
   "metadata": {},
   "outputs": [],
   "source": [
    "class LinkedListNode():\n",
    "    def __init__(self,value):\n",
    "        self.value = value\n",
    "        self.next = None\n",
    "        \n",
    "    def traverseList(self):\n",
    "        node = self\n",
    "        while node != None:\n",
    "            print(node.value)\n",
    "            node = node.next\n",
    "            \n",
    "node1 = LinkedListNode('Mon')\n",
    "node2 = LinkedListNode('Tues')\n",
    "node3 = LinkedListNode('Wed')\n",
    "\n",
    "node1.next = node2\n",
    "node2.next = node3\n",
    "\n",
    "print(node1.traverseList())"
   ]
  },
  {
   "cell_type": "code",
   "execution_count": null,
   "metadata": {},
   "outputs": [],
   "source": [
    "# A Complete Implementation of a linkedlist\n",
    "\n",
    "# 2 components to this solution -- A Node Class and the LinkedList class\n",
    "\n",
    "class Node():\n",
    "    def __init__(self,value):\n",
    "        self.value = value\n",
    "        self.next = None\n",
    "        \n",
    "class LinkedList():\n",
    "    def __init__(self):\n",
    "        self.head = None\n",
    "        \n",
    "    def push_on(self,new_value):\n",
    "        new_node = Node(new_value)\n",
    "        new_node.next = self.head\n",
    "        self.head = new_node\n",
    "    def insert_after(self,prev_node,new_value):\n",
    "        # Check if the previous node even exists\n",
    "        if prev_node is None:\n",
    "            print(\"The given previous node must not be empty!\")\n",
    "            return\n",
    "        # IF the Node is not empty then create a new node\n",
    "        new_node = Node(new_value)\n",
    "        \n",
    "        # Update the previous node's next pointer to point to the new value\n",
    "        new_node.next = prev_node.next\n",
    "        \n",
    "        # Update the previous node to point to the new node's value\n",
    "        prev_node.next = new_node\n",
    "    \n",
    "    # This method will append a new node to the END of the linkedlist\n",
    "    def append(self,new_value):\n",
    "        # Create New Node with a new value\n",
    "        new_node = Node(new_value)\n",
    "        \n",
    "        #Check if the LinkedList is empty\n",
    "        #And if it is, make THIS new node the head node(beginning of the list)\n",
    "        if self.head is None:\n",
    "            self.head = new_node\n",
    "            \n",
    "        #BUT if the list is NOT empty - traverse to the end\n",
    "        # and add the NEW value to the end of the list\n",
    "        \n",
    "        last = self.head\n",
    "        \n",
    "        #While last.next is not None -> continue to loop until we find a None value\n",
    "        while(last.next):\n",
    "            last = last.next\n",
    "        # Change current last node value to point to the NEW value\n",
    "        last.next = new_node\n",
    "        \n",
    "    def traverse(self):\n",
    "        temp = self.head\n",
    "        # while temp is NOT None -> keep looping through the links until you reach a None Value\n",
    "        while(temp):\n",
    "            print(temp.value)\n",
    "            temp = temp.next\n",
    "            \n",
    "weekdays_links = LinkedList()\n",
    "\n",
    "# Insert a new day into the list\n",
    "weekdays_links.push_on('Mon')\n",
    "weekdays_links.append('Tues')\n",
    "weekdays_links.append('Thurs')\n",
    "weekdays_links.insert_after(weekdays_links.head.next,\"Wed\")\n",
    "weekdays_links.traverse()"
   ]
  },
  {
   "cell_type": "markdown",
   "metadata": {},
   "source": [
    "## Binary Search Trees"
   ]
  },
  {
   "cell_type": "code",
   "execution_count": null,
   "metadata": {},
   "outputs": [],
   "source": [
    "class BST():\n",
    "    def __init__(self,value):\n",
    "        self.value = value # Current Value\n",
    "        self.left = None\n",
    "        self.right = None\n",
    "        \n",
    "    def insert(self,value):\n",
    "        if value < self.value:\n",
    "            if self.left is None:\n",
    "                self.left = BST(value)\n",
    "            else:\n",
    "                self.left.insert(value)\n",
    "        else:\n",
    "            if self.right is None:\n",
    "                self.right = BST(value)\n",
    "            else:\n",
    "                self.right.insert(value)\n",
    "        return self\n",
    "    \n",
    "    def contains(self,value):\n",
    "        \"\"\"\n",
    "            This method accepts an int for its value\n",
    "            The value parameter is what we are looking for inside of the BST structure\n",
    "        \"\"\"\n",
    "        if value < self.value: # if passed value is less than current value\n",
    "            if self.left is None:\n",
    "                return False\n",
    "            else:\n",
    "                return self.left.contains(value)\n",
    "        elif value > self.value:\n",
    "            if self.right is None:\n",
    "                return False\n",
    "            else:\n",
    "                return self.right.contains(value)\n",
    "        else:\n",
    "            return True\n",
    "        \n",
    "    def get_min_value(self):\n",
    "        if self.left is None:\n",
    "            return self.value\n",
    "        else:\n",
    "            return self.left.get_min_value()\n",
    "    \n",
    "    def get_max_value(self):\n",
    "        if self.right is None:\n",
    "            return self.value\n",
    "        else:\n",
    "            return self.right.get_max_value()\n",
    "        \n",
    "    def remove(self,value,parent=None):\n",
    "        if value < self.value:\n",
    "            if self.left is not None:\n",
    "                self.left.remove(value,self)\n",
    "        elif value > self.value:\n",
    "            if self.right is not None:\n",
    "                self.right.remove(value,self)\n",
    "        else:\n",
    "            if self.left is not None and self.right is not None:\n",
    "                self.value = self.right.get_min_value()\n",
    "                self.right.remove(self.value,self)\n",
    "            elif parent is None:\n",
    "                if self.left is not None:\n",
    "                    self.value = self.left.value\n",
    "                    self.right = self.left.right\n",
    "                    self.left = self.left.left\n",
    "                elif self.right is not None:\n",
    "                    self.value = self.right.value\n",
    "                    self.left = self.right.left\n",
    "                    self.right = self.right.right\n",
    "                else:\n",
    "                    self.value = None\n",
    "            elif parent.left == self:\n",
    "                parent.left = self.left if self.left is not None else self.right\n",
    "            elif parent.right == self:\n",
    "                parent.right = self.left if self.left is not None else self.right\n",
    "        return self\n",
    "    \n",
    "bst_example = BST(39)\n",
    "bst_example.insert(40)\n",
    "bst_example.insert(50)\n",
    "\n",
    "print(bst_example.get_max_value())\n",
    "print(bst_example.contains(40))\n",
    "bst_example.remove(40)\n",
    "print(bst_example.contains(40))"
   ]
  },
  {
   "cell_type": "markdown",
   "metadata": {},
   "source": [
    "# Homework"
   ]
  },
  {
   "cell_type": "markdown",
   "metadata": {},
   "source": [
    "#### Problem 1: Linked Lists\n",
    "\n",
    "Using the above examples as a guide, create your own interpretation of the a Linked List class. You can not use the code above exactly, but again it can be used as a guide. This problem requires you to think about how a linked list works and create one using your own logic.\n",
    "\n",
    "*Remember* A Linked List is a list of Nodes that point to the next node in the chain. The first Node starts out as Empty(None) and each node after points to the next.\n",
    "\n",
    "Your Linked List should have a traverse method and have the ability to add a new node"
   ]
  },
  {
   "cell_type": "code",
   "execution_count": null,
   "metadata": {},
   "outputs": [],
   "source": []
  },
  {
   "cell_type": "markdown",
   "metadata": {},
   "source": [
    "#### Problem 2: Binary Search Tree\n",
    "\n",
    "Using the above examples as a guide, create your own interpretation of the a Binary Search Tree class. You can not use the code above exactly, but again it can be used as a guide. This problem requires you to think about how a Binary Search Tree works and create one using your own logic.\n",
    "\n",
    "*Remember* Binary Search Trees start with a head node and each node to the left of that will be smaller, each node to the right of it will be greater. The far left node should be the lowest number(if one exists) that is available. The far right node (if one exists) should be the greatest number"
   ]
  },
  {
   "cell_type": "code",
   "execution_count": null,
   "metadata": {},
   "outputs": [],
   "source": []
  }
 ],
 "metadata": {
  "kernelspec": {
   "display_name": "Python 3",
   "language": "python",
   "name": "python3"
  },
  "language_info": {
   "codemirror_mode": {
    "name": "ipython",
    "version": 3
   },
   "file_extension": ".py",
   "mimetype": "text/x-python",
   "name": "python",
   "nbconvert_exporter": "python",
   "pygments_lexer": "ipython3",
   "version": "3.10.5"
  }
 },
 "nbformat": 4,
 "nbformat_minor": 2
}
